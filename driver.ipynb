{
 "cells": [
  {
   "cell_type": "code",
   "execution_count": null,
   "metadata": {},
   "outputs": [],
   "source": [
    "# code for loading in data set from:\n",
    "# https://pythonbasics.org/how-to-load-machine-learning-data-in-python/\n",
    "import numpy as np\n",
    "filename = 'Data/CS170_Small_Data__82.txt'\n",
    "raw_data = open(filename, 'rt')\n",
    "data = np.loadtxt(raw_data)\n",
    "print(data.shape)\n",
    "print(data)\n",
    "\n",
    "x = np.array([[1,2],[3,4]])"
   ]
  },
  {
   "cell_type": "code",
   "execution_count": null,
   "metadata": {},
   "outputs": [],
   "source": [
    "def LeaveOneOutCrossValid(data, current_set, feature_to_add):\n",
    "    # function stub for now\n",
    "    # Leave one out cross validation, returns the accuracy\n",
    "    # K = num(rows)\n",
    "    rows = data.shape[0]\n",
    "    for i in range(rows):\n",
    "        ObjToClassify = data[i,1:]\n",
    "        LabelObjToClassify = data[i,0]\n",
    "\n",
    "        #print(f\"Looping over i, at the {i} location\")\n",
    "        #print(f\"The {i}'th object is in class {LabelObjToClassify}\")\n",
    "        NearestNeighborDistance = np.inf\n",
    "        NearestNeighborLocation = np.inf\n",
    "        for k in range(rows):\n",
    "            if not k == i:\n",
    "                # nearest neighbor algo here\n",
    "                print(f\"Ask if {i} is nearest neighbor with {k}\")\n",
    "    accuracy = 1\n",
    "    return accuracy\n",
    "\n",
    "def feature_search(data):\n",
    "    CurrentSet = set()\n",
    "\n",
    "    for i in range(1, data.shape[1]):\n",
    "        print(f\"On the {i}th level of the search tree\")\n",
    "        FeatureToAddAtThisLevel = set()\n",
    "        BestSoFarAccuracy = 0\n",
    "        \n",
    "        for k in range(1, data.shape[1]):\n",
    "            if not CurrentSet.intersection(set({k})):\n",
    "                print(f\"--Considering adding the {k} feature\")\n",
    "                accuracy = LeaveOneOutCrossValid(data,CurrentSet,k+1)\n",
    "\n",
    "                if accuracy > BestSoFarAccuracy:\n",
    "                    BestSoFarAccuracy = accuracy\n",
    "                    FeatureToAddAtThisLevel = k\n",
    "        CurrentSet.add(FeatureToAddAtThisLevel) \n",
    "        print(f\"On level {i} i added feature {FeatureToAddAtThisLevel} to current set\")"
   ]
  },
  {
   "cell_type": "code",
   "execution_count": null,
   "metadata": {},
   "outputs": [],
   "source": [
    "#feature_search(data)\n",
    "LeaveOneOutCrossValid(data,0,0)"
   ]
  }
 ],
 "metadata": {
  "kernelspec": {
   "display_name": "Python 3.10.8 64-bit",
   "language": "python",
   "name": "python3"
  },
  "language_info": {
   "codemirror_mode": {
    "name": "ipython",
    "version": 3
   },
   "file_extension": ".py",
   "mimetype": "text/x-python",
   "name": "python",
   "nbconvert_exporter": "python",
   "pygments_lexer": "ipython3",
   "version": "3.10.8"
  },
  "orig_nbformat": 4,
  "vscode": {
   "interpreter": {
    "hash": "767d51c1340bd893661ea55ea3124f6de3c7a262a8b4abca0554b478b1e2ff90"
   }
  }
 },
 "nbformat": 4,
 "nbformat_minor": 2
}
