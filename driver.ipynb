{
 "cells": [
  {
   "cell_type": "code",
   "execution_count": 1,
   "metadata": {},
   "outputs": [
    {
     "name": "stdout",
     "output_type": "stream",
     "text": [
      "(500, 7)\n",
      "[[ 2.         -0.63742821 -0.3877098  ... -0.78912863 -1.0888035\n",
      "   0.33726993]\n",
      " [ 2.         -0.10508566  1.5406805  ...  1.173381   -0.30325924\n",
      "   1.0776392 ]\n",
      " [ 2.         -0.83025536  1.3045544  ...  0.06139414  0.17492874\n",
      "  -1.4731397 ]\n",
      " ...\n",
      " [ 2.         -0.43517064  1.077989   ... -0.69252039 -0.97886516\n",
      "  -0.53556053]\n",
      " [ 1.          0.29658063 -0.89554223 ...  0.48519201  0.51102218\n",
      "   0.77067154]\n",
      " [ 1.          0.56477704  1.713623   ... -0.73334086 -1.5821675\n",
      "   0.55436715]]\n"
     ]
    }
   ],
   "source": [
    "# code for loading in data set from:\n",
    "# https://pythonbasics.org/how-to-load-machine-learning-data-in-python/\n",
    "import numpy as np\n",
    "import copy\n",
    "filename = 'Data/CS170_Small_Data__82.txt'\n",
    "raw_data = open(filename, 'rt')\n",
    "data = np.loadtxt(raw_data)\n",
    "print(data.shape)\n",
    "print(data)"
   ]
  },
  {
   "cell_type": "code",
   "execution_count": 48,
   "metadata": {},
   "outputs": [],
   "source": [
    "def LeaveOneOutCrossValid(data, current_set, feature_to_add):\n",
    "    # Leave one out cross validation, returns the accuracy\n",
    "    rows = data.shape[0]\n",
    "    cols = data.shape[1]\n",
    "    # zero columns\n",
    "    #for feature in current_set:\n",
    "    #    data[:,feature] = 0 # this is a bug\n",
    "    #data[:,feature_to_add] = 0 # this is a bug\n",
    "    for feature in range(1,cols):\n",
    "        if (feature not in current_set) and (feature != feature_to_add):\n",
    "            data[:,feature] = 0\n",
    "\n",
    "    NumCorrect = 0\n",
    "    for i in range(rows):\n",
    "        ObjToClassify = data[i,1:]\n",
    "        LabelObjToClassify = data[i,0]\n",
    "        #print(f\"Looping over i, at the {i} location\")\n",
    "        #print(f\"The {i}'th object is in class {LabelObjToClassify}\")\n",
    "        NearestNeighborDistance = np.inf\n",
    "        NearestNeighborLocation = np.inf\n",
    "        for k in range(rows):\n",
    "            if not k == i: # except self\n",
    "                distance = np.sqrt(np.sum((ObjToClassify - data[k,1:]) ** 2))\n",
    "                if distance < NearestNeighborDistance:\n",
    "                    NearestNeighborDistance = distance\n",
    "                    NearestNeighborLocation = k\n",
    "                    NearestNeighborLabel = data[NearestNeighborLocation,0]\n",
    "                    #print(f\"Ask if {i} is nearest neighbor with {k}\")\n",
    "                    #print(\"Distance: \", distance)\n",
    "        if LabelObjToClassify == NearestNeighborLabel:\n",
    "            NumCorrect = NumCorrect + 1\n",
    "    \n",
    "    accuracy = NumCorrect / rows\n",
    "        #print(f\"Object {i} is class {LabelObjToClassify}\")\n",
    "        #print(f\"Its nearest neighbor is {NearestNeighborLocation} which is class {NearestNeighborLabel}\")\n",
    "    return accuracy\n",
    "\n",
    "def feature_search(data):\n",
    "    CurrentSet = set()\n",
    "    BestAcc = 0\n",
    "    for i in range(1, data.shape[1]):\n",
    "        #print(f\"On the {i}th level of the search tree\")\n",
    "        FeatureToAddAtThisLevel = set()\n",
    "        BestSoFarAccuracy = 0\n",
    "        \n",
    "        for k in range(1, data.shape[1]):\n",
    "            if not CurrentSet.intersection(set({k})):\n",
    "                #print(f\"--Considering adding feature {k}\")\n",
    "                # to create columns of zeros without affecting the original array\n",
    "                Data = copy.deepcopy(data)\n",
    "                #accuracy = LeaveOneOutCrossValid(Data, CurrentSet, k+1)\n",
    "                accuracy = LeaveOneOutCrossValid(Data, CurrentSet, k)\n",
    "                #print(f\"accuracy of feature {CurrentSet} + feature {k} = : {accuracy}\")\n",
    "\n",
    "                if accuracy > BestSoFarAccuracy:\n",
    "                    BestSoFarAccuracy = accuracy\n",
    "                    FeatureToAddAtThisLevel = k\n",
    "                    BestAcc = accuracy\n",
    "                    print(CurrentSet)\n",
    "        CurrentSet.add(FeatureToAddAtThisLevel) \n",
    "        print(f\"On level {i} i added feature {FeatureToAddAtThisLevel} to current set\")\n",
    "        print(BestAcc)\n",
    "        #print(CurrentSet)"
   ]
  },
  {
   "cell_type": "code",
   "execution_count": null,
   "metadata": {},
   "outputs": [],
   "source": [
    "#feature_search(data)\n",
    "LeaveOneOutCrossValid(data,0,0)"
   ]
  },
  {
   "cell_type": "code",
   "execution_count": 49,
   "metadata": {},
   "outputs": [
    {
     "name": "stdout",
     "output_type": "stream",
     "text": [
      "set()\n",
      "On level 1 i added feature 1 to current set\n",
      "0.874\n",
      "{1}\n",
      "{1}\n",
      "{1}\n",
      "On level 2 i added feature 6 to current set\n",
      "0.948\n",
      "{1, 6}\n",
      "{1, 6}\n",
      "On level 3 i added feature 3 to current set\n",
      "0.94\n",
      "{1, 3, 6}\n",
      "{1, 3, 6}\n",
      "{1, 3, 6}\n",
      "On level 4 i added feature 5 to current set\n",
      "0.892\n",
      "{1, 3, 5, 6}\n",
      "{1, 3, 5, 6}\n",
      "On level 5 i added feature 4 to current set\n",
      "0.864\n",
      "{1, 3, 4, 5, 6}\n",
      "On level 6 i added feature 2 to current set\n",
      "0.836\n"
     ]
    }
   ],
   "source": [
    "#filename = 'Data/SampleData/CS170_SMALLtestdata__1.txt'\n",
    "filename = 'Data/SampleData/Sue/CS170_Small_Data__96.txt'\n",
    "Raw_data = open(filename, 'rt')\n",
    "Data = np.loadtxt(Raw_data)\n",
    "#print(Data.shape)\n",
    "#print(Data)\n",
    "feature_search(Data)\n",
    "#LeaveOneOutCrossValid(Data,0,0)"
   ]
  },
  {
   "cell_type": "code",
   "execution_count": null,
   "metadata": {},
   "outputs": [],
   "source": []
  }
 ],
 "metadata": {
  "kernelspec": {
   "display_name": "Python 3.9.13 64-bit (microsoft store)",
   "language": "python",
   "name": "python3"
  },
  "language_info": {
   "codemirror_mode": {
    "name": "ipython",
    "version": 3
   },
   "file_extension": ".py",
   "mimetype": "text/x-python",
   "name": "python",
   "nbconvert_exporter": "python",
   "pygments_lexer": "ipython3",
   "version": "3.9.13"
  },
  "orig_nbformat": 4,
  "vscode": {
   "interpreter": {
    "hash": "5e9be3726a3e1eb0488b4d4f640ef9d4f9840d98d40cbcadb810c3cb4446c190"
   }
  }
 },
 "nbformat": 4,
 "nbformat_minor": 2
}
