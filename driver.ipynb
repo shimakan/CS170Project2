{
 "cells": [
  {
   "cell_type": "code",
   "execution_count": 68,
   "metadata": {},
   "outputs": [
    {
     "name": "stdout",
     "output_type": "stream",
     "text": [
      "(500, 7)\n",
      "[[ 2.         -0.63742821 -0.3877098  ... -0.78912863 -1.0888035\n",
      "   0.33726993]\n",
      " [ 2.         -0.10508566  1.5406805  ...  1.173381   -0.30325924\n",
      "   1.0776392 ]\n",
      " [ 2.         -0.83025536  1.3045544  ...  0.06139414  0.17492874\n",
      "  -1.4731397 ]\n",
      " ...\n",
      " [ 2.         -0.43517064  1.077989   ... -0.69252039 -0.97886516\n",
      "  -0.53556053]\n",
      " [ 1.          0.29658063 -0.89554223 ...  0.48519201  0.51102218\n",
      "   0.77067154]\n",
      " [ 1.          0.56477704  1.713623   ... -0.73334086 -1.5821675\n",
      "   0.55436715]]\n"
     ]
    }
   ],
   "source": [
    "# code for loading in data set from:\n",
    "# https://pythonbasics.org/how-to-load-machine-learning-data-in-python/\n",
    "import numpy as np\n",
    "import matplotlib.pyplot as plt\n",
    "import copy\n",
    "filename = 'Data/CS170_Small_Data__82.txt'\n",
    "raw_data = open(filename, 'rt')\n",
    "data = np.loadtxt(raw_data)\n",
    "print(data.shape)\n",
    "print(data)"
   ]
  },
  {
   "cell_type": "code",
   "execution_count": 139,
   "metadata": {},
   "outputs": [],
   "source": [
    "def MakePlot(accuracies,feature_sets):\n",
    "    fig, ax = plt.subplots()\n",
    "    ax.bar(range(len(feature_sets)), accuracies, width=0.5)\n",
    "    plt.xticks(range(len(feature_sets)), feature_sets)\n",
    "    plt.ylabel('Accuracy')\n",
    "    plt.xlabel('Feature Set')\n",
    "    fig.autofmt_xdate()\n",
    "    if len(str(feature_sets[0])) < len(str(feature_sets[1])):\n",
    "        plt.title('Forward Feature Search')\n",
    "    else:\n",
    "        plt.title('Backward Feature Search')\n",
    "    plt.show()\n",
    "\n",
    "def LeaveOneOutCrossValid(data, current_set, feature_to_add_or_remove, search_method):\n",
    "    # Leave one out cross validation, returns the accuracy\n",
    "    rows = data.shape[0]\n",
    "    cols = data.shape[1]\n",
    "    # zero columns\n",
    "    if search_method == \"forward\":\n",
    "        # zero out the columns that do not contain features in the current set and the feature to add\n",
    "        for feature in range(1,cols):\n",
    "            if (feature not in current_set) and (feature != feature_to_add_or_remove):\n",
    "                data[:,feature] = 0\n",
    "    elif search_method == \"backward\":\n",
    "        # zero out the columns that contain the feature to remove and the features that are not in the current set\n",
    "        for feature in range(1, cols):\n",
    "            if (feature not in current_set) or (feature == feature_to_add_or_remove):\n",
    "                data[:,feature] = 0  \n",
    "    else:\n",
    "        return 0\n",
    "\n",
    "    NumCorrect = 0\n",
    "    for i in range(rows):\n",
    "        ObjToClassify = data[i,1:]\n",
    "        LabelObjToClassify = data[i,0]\n",
    "        #print(f\"Looping over i, at the {i} location\")\n",
    "        #print(f\"The {i}'th object is in class {LabelObjToClassify}\")\n",
    "        NearestNeighborDistance = np.inf\n",
    "        NearestNeighborLocation = np.inf\n",
    "        for k in range(rows):\n",
    "            if not k == i: # except self\n",
    "                distance = np.sqrt(np.sum((ObjToClassify - data[k,1:]) ** 2))\n",
    "                if distance < NearestNeighborDistance:\n",
    "                    NearestNeighborDistance = distance\n",
    "                    NearestNeighborLocation = k\n",
    "                    NearestNeighborLabel = data[NearestNeighborLocation,0]\n",
    "                    #print(f\"Ask if {i} is nearest neighbor with {k}\")\n",
    "                    #print(\"Distance: \", distance)\n",
    "        if LabelObjToClassify == NearestNeighborLabel:\n",
    "            NumCorrect = NumCorrect + 1\n",
    "    \n",
    "    accuracy = NumCorrect / rows\n",
    "        #print(f\"Object {i} is class {LabelObjToClassify}\")\n",
    "        #print(f\"Its nearest neighbor is {NearestNeighborLocation} which is class {NearestNeighborLabel}\")\n",
    "    return accuracy\n",
    "\n",
    "def forward_feature_search(data):\n",
    "    CurrentSet = set()\n",
    "    BestAcc = 0\n",
    "    # Deafult rate\n",
    "    Data = copy.deepcopy(data)\n",
    "    default_acc = LeaveOneOutCrossValid(Data, CurrentSet, None, \"forward\")\n",
    "    accuracies = [default_acc]\n",
    "    feature_sets = ['{}']\n",
    "\n",
    "    for i in range(1, data.shape[1]):\n",
    "        #print(f\"On the {i}th level of the search tree\")\n",
    "        FeatureToAddAtThisLevel = set()\n",
    "        BestSoFarAccuracy = 0\n",
    "        \n",
    "        for k in range(1, data.shape[1]):\n",
    "            if not CurrentSet.intersection(set({k})):\n",
    "                #print(f\"--Considering adding feature {k}\")\n",
    "                # to create columns of zeros without affecting the original array\n",
    "                Data = copy.deepcopy(data)\n",
    "                #accuracy = LeaveOneOutCrossValid(Data, CurrentSet, k+1)\n",
    "                accuracy = LeaveOneOutCrossValid(Data, CurrentSet, k, \"forward\")\n",
    "                #print(f\"accuracy of feature {CurrentSet} + feature {k} = : {accuracy}\")\n",
    "\n",
    "                if accuracy > BestSoFarAccuracy:\n",
    "                    BestSoFarAccuracy = accuracy\n",
    "                    FeatureToAddAtThisLevel = k\n",
    "                    BestAcc = accuracy\n",
    "                    #print(CurrentSet)\n",
    "        #print(CurrentSet)\n",
    "        #print(feature_sets)\n",
    "        CurrentSet.add(FeatureToAddAtThisLevel) \n",
    "        print(f\"On level {i} i added feature {FeatureToAddAtThisLevel} to current set\")\n",
    "        print(f\"Current Set: {CurrentSet}\")\n",
    "        print(f\"Accuracy: {BestAcc}\")\n",
    "        accuracies.append(BestAcc)\n",
    "        feature_sets.append(CurrentSet.copy())\n",
    "    \n",
    "    MakePlot(accuracies, feature_sets)\n",
    "\n",
    "def backward_feature_search(data):\n",
    "    features = [x for x in range(1, data.shape[1])] \n",
    "    CurrentSet = set(features)\n",
    "    BestAcc = 0\n",
    "    # Deafult rate\n",
    "    Data = copy.deepcopy(data)\n",
    "    default_acc = LeaveOneOutCrossValid(Data, CurrentSet, None, \"backward\")\n",
    "    accuracies = [default_acc]\n",
    "    feature_sets = [str(CurrentSet.copy())]\n",
    "\n",
    "    for i in range(1, data.shape[1]):\n",
    "        #print(f\"On the {i}th level of the search tree\")\n",
    "\n",
    "        # The logic should be, feature to remove at this level        \n",
    "        FeatureToRemoveAtThisLevel = set()\n",
    "        #if i == 1:\n",
    "        #    Data = copy.deepcopy(data)\n",
    "        #    BestSoFarAccuracy = LeaveOneOutCrossValid(Data, CurrentSet, None, \"backward\")\n",
    "        #else: \n",
    "        BestSoFarAccuracy = 0\n",
    "        for k in range(1, data.shape[1]):\n",
    "            if k in CurrentSet:\n",
    "            #if CurrentSet.intersection(set({k})):\n",
    "                #print(f\"--Considering removing feature {k}\")\n",
    "                # to create columns of zeros without affecting the original array\n",
    "                Data = copy.deepcopy(data)\n",
    "                accuracy = LeaveOneOutCrossValid(Data, CurrentSet, k, \"backward\")\n",
    "                #print(f\"accuracy of feature {CurrentSet} - feature {k} = : {accuracy}\")\n",
    "\n",
    "                if accuracy > BestSoFarAccuracy:\n",
    "                    BestSoFarAccuracy = accuracy\n",
    "                    FeatureToRemoveAtThisLevel = k\n",
    "                    BestAcc = accuracy\n",
    "                    #print(CurrentSet)\n",
    "        CurrentSet.remove(FeatureToRemoveAtThisLevel) \n",
    "        print(f\"On level {i} i removed feature {FeatureToRemoveAtThisLevel} from current set\")\n",
    "        print(f\"Current Set: {CurrentSet}\")\n",
    "        print(f\"Accuracy: {BestAcc}\")\n",
    "        accuracies.append(BestAcc)\n",
    "        if len(CurrentSet) != 0:\n",
    "            feature_sets.append(CurrentSet.copy())\n",
    "        else:\n",
    "            feature_sets.append('{}')\n",
    "        print(feature_sets)\n",
    "    print(len(accuracies),len(feature_sets))\n",
    "\n",
    "    MakePlot(accuracies,feature_sets)"
   ]
  },
  {
   "cell_type": "code",
   "execution_count": null,
   "metadata": {},
   "outputs": [],
   "source": [
    "#feature_search(data)\n",
    "LeaveOneOutCrossValid(data,0,0)"
   ]
  },
  {
   "cell_type": "code",
   "execution_count": null,
   "metadata": {},
   "outputs": [],
   "source": [
    "#filename = 'Data/SampleData/CS170_SMALLtestdata__1.txt'\n",
    "#filename = 'Data/SampleData/Sue/CS170_Small_Data__96.txt'\n",
    "#filename = 'Data/SampleData/Joe/CS170_Small_Data__6.txt'\n",
    "filename = 'Data/SampleData/Van/CS170_Small_Data__88.txt'\n",
    "Raw_data = open(filename, 'rt')\n",
    "Data = np.loadtxt(Raw_data)\n",
    "#print(Data.shape)\n",
    "#print(Data)"
   ]
  },
  {
   "cell_type": "code",
   "execution_count": 138,
   "metadata": {},
   "outputs": [
    {
     "name": "stdout",
     "output_type": "stream",
     "text": [
      "On level 1 i added feature 5 to current set\n",
      "Current Set: {5}\n",
      "Accuracy: 0.838\n",
      "On level 2 i added feature 1 to current set\n",
      "Current Set: {1, 5}\n",
      "Accuracy: 0.964\n",
      "On level 3 i added feature 2 to current set\n",
      "Current Set: {1, 2, 5}\n",
      "Accuracy: 0.936\n",
      "On level 4 i added feature 3 to current set\n",
      "Current Set: {1, 2, 3, 5}\n",
      "Accuracy: 0.884\n",
      "On level 5 i added feature 4 to current set\n",
      "Current Set: {1, 2, 3, 4, 5}\n",
      "Accuracy: 0.834\n",
      "On level 6 i added feature 6 to current set\n",
      "Current Set: {1, 2, 3, 4, 5, 6}\n",
      "Accuracy: 0.794\n"
     ]
    },
    {
     "data": {
      "image/png": "[encoded data removed]",
      "text/plain": [
       "<Figure size 432x288 with 1 Axes>"
      ]
     },
     "metadata": {
      "needs_background": "light"
     },
     "output_type": "display_data"
    }
   ],
   "source": [
    "# testing forward feature search\n",
    "forward_feature_search(Data)"
   ]
  },
  {
   "cell_type": "code",
   "execution_count": 136,
   "metadata": {},
   "outputs": [
    {
     "name": "stdout",
     "output_type": "stream",
     "text": [
      "On level 1 i removed feature 6 from current set\n",
      "Current Set: {1, 2, 3, 4, 5}\n",
      "Accuracy: 0.834\n",
      "['{1, 2, 3, 4, 5, 6}', {1, 2, 3, 4, 5}]\n",
      "On level 2 i removed feature 3 from current set\n",
      "Current Set: {1, 2, 4, 5}\n",
      "Accuracy: 0.884\n",
      "['{1, 2, 3, 4, 5, 6}', {1, 2, 3, 4, 5}, {1, 2, 4, 5}]\n",
      "On level 3 i removed feature 4 from current set\n",
      "Current Set: {1, 2, 5}\n",
      "Accuracy: 0.936\n",
      "['{1, 2, 3, 4, 5, 6}', {1, 2, 3, 4, 5}, {1, 2, 4, 5}, {1, 2, 5}]\n",
      "On level 4 i removed feature 2 from current set\n",
      "Current Set: {1, 5}\n",
      "Accuracy: 0.964\n",
      "['{1, 2, 3, 4, 5, 6}', {1, 2, 3, 4, 5}, {1, 2, 4, 5}, {1, 2, 5}, {1, 5}]\n",
      "On level 5 i removed feature 1 from current set\n",
      "Current Set: {5}\n",
      "Accuracy: 0.838\n",
      "['{1, 2, 3, 4, 5, 6}', {1, 2, 3, 4, 5}, {1, 2, 4, 5}, {1, 2, 5}, {1, 5}, {5}]\n",
      "On level 6 i removed feature 5 from current set\n",
      "Current Set: set()\n",
      "Accuracy: 0.786\n",
      "['{1, 2, 3, 4, 5, 6}', {1, 2, 3, 4, 5}, {1, 2, 4, 5}, {1, 2, 5}, {1, 5}, {5}, '{}']\n",
      "7 7\n",
      "[0.794, 0.834, 0.884, 0.936, 0.964, 0.838, 0.786]\n",
      "['{1, 2, 3, 4, 5, 6}', {1, 2, 3, 4, 5}, {1, 2, 4, 5}, {1, 2, 5}, {1, 5}, {5}, '{}']\n"
     ]
    },
    {
     "data": {
      "image/png": "[encoded data removed]",
      "text/plain": [
       "<Figure size 432x288 with 1 Axes>"
      ]
     },
     "metadata": {
      "needs_background": "light"
     },
     "output_type": "display_data"
    }
   ],
   "source": [
    "# testing backward feature search\n",
    "backward_feature_search(Data)"
   ]
  },
  {
   "cell_type": "code",
   "execution_count": null,
   "metadata": {},
   "outputs": [],
   "source": []
  }
 ],
 "metadata": {
  "kernelspec": {
   "display_name": "Python 3.9.12 64-bit",
   "language": "python",
   "name": "python3"
  },
  "language_info": {
   "codemirror_mode": {
    "name": "ipython",
    "version": 3
   },
   "file_extension": ".py",
   "mimetype": "text/x-python",
   "name": "python",
   "nbconvert_exporter": "python",
   "pygments_lexer": "ipython3",
   "version": "3.9.12"
  },
  "orig_nbformat": 4,
  "vscode": {
   "interpreter": {
    "hash": "b0fa6594d8f4cbf19f97940f81e996739fb7646882a419484c72d19e05852a7e"
   }
  }
 },
 "nbformat": 4,
 "nbformat_minor": 2
}
