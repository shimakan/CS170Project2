{
 "cells": [
  {
   "cell_type": "code",
   "execution_count": null,
   "metadata": {},
   "outputs": [],
   "source": [
    "# code for loading in data set from:\n",
    "# https://pythonbasics.org/how-to-load-machine-learning-data-in-python/\n",
    "import numpy as np\n",
    "import matplotlib.pyplot as plt\n",
    "import copy\n",
    "filename = 'Data/CS170_Small_Data__82.txt'\n",
    "raw_data = open(filename, 'rt')\n",
    "data = np.loadtxt(raw_data)"
   ]
  },
  {
   "cell_type": "code",
   "execution_count": null,
   "metadata": {},
   "outputs": [],
   "source": [
    "def MakePlot(accuracies,feature_sets):\n",
    "    fig, ax = plt.subplots()\n",
    "    ax.bar(range(len(feature_sets)), accuracies, width=0.5)\n",
    "    plt.xticks(range(len(feature_sets)), feature_sets)\n",
    "    plt.ylabel('Accuracy')\n",
    "    plt.xlabel('Feature Set')\n",
    "    fig.autofmt_xdate()\n",
    "    if len(str(feature_sets[0])) < len(str(feature_sets[1])):\n",
    "        plt.title('Forward Feature Search')\n",
    "    else:\n",
    "        plt.title('Backward Feature Search')\n",
    "    plt.show()\n",
    "\n",
    "def LeaveOneOutCrossValid(data, current_set, feature_to_add_or_remove, search_method):\n",
    "    # Leave one out cross validation, returns the accuracy\n",
    "    rows = data.shape[0]\n",
    "    cols = data.shape[1]\n",
    "    # zero columns\n",
    "    if search_method == \"forward\":\n",
    "        # zero out the columns that do not contain features in the current set and the feature to add\n",
    "        for feature in range(1,cols):\n",
    "            if (feature not in current_set) and (feature != feature_to_add_or_remove):\n",
    "                data[:,feature] = 0\n",
    "    elif search_method == \"backward\":\n",
    "        # zero out the columns that contain the feature to remove and the features that are not in the current set\n",
    "        for feature in range(1, cols):\n",
    "            if (feature not in current_set) or (feature == feature_to_add_or_remove):\n",
    "                data[:,feature] = 0  \n",
    "    else:\n",
    "        return 0\n",
    "\n",
    "    NumCorrect = 0\n",
    "    for i in range(rows):\n",
    "        ObjToClassify = data[i,1:]\n",
    "        LabelObjToClassify = data[i,0]\n",
    "        NearestNeighborDistance = np.inf\n",
    "        NearestNeighborLocation = np.inf\n",
    "        for k in range(rows):\n",
    "            if not k == i: # except self\n",
    "                distance = np.sqrt(np.sum((ObjToClassify - data[k,1:]) ** 2))\n",
    "                if distance < NearestNeighborDistance:\n",
    "                    NearestNeighborDistance = distance\n",
    "                    NearestNeighborLocation = k\n",
    "                    NearestNeighborLabel = data[NearestNeighborLocation,0]\n",
    "        if LabelObjToClassify == NearestNeighborLabel:\n",
    "            NumCorrect = NumCorrect + 1\n",
    "    \n",
    "    accuracy = NumCorrect / rows\n",
    "    return accuracy\n",
    "\n",
    "def forward_feature_search(data):\n",
    "    CurrentSet = set()\n",
    "    BestAcc = 0\n",
    "    # Deafult rate\n",
    "    Data = copy.deepcopy(data)\n",
    "    default_acc = LeaveOneOutCrossValid(Data, CurrentSet, None, \"forward\")\n",
    "    accuracies = [default_acc]\n",
    "    feature_sets = ['{}']\n",
    "\n",
    "    for i in range(1, data.shape[1]):\n",
    "        FeatureToAddAtThisLevel = set()\n",
    "        BestSoFarAccuracy = 0\n",
    "        \n",
    "        for k in range(1, data.shape[1]):\n",
    "            if not CurrentSet.intersection(set({k})):\n",
    "                Data = copy.deepcopy(data)\n",
    "                accuracy = LeaveOneOutCrossValid(Data, CurrentSet, k, \"forward\")\n",
    "\n",
    "                if accuracy > BestSoFarAccuracy:\n",
    "                    BestSoFarAccuracy = accuracy\n",
    "                    FeatureToAddAtThisLevel = k\n",
    "                    BestAcc = accuracy\n",
    "        CurrentSet.add(FeatureToAddAtThisLevel) \n",
    "        print(f\"On level {i} i added feature {FeatureToAddAtThisLevel} to current set\")\n",
    "        print(f\"Current Set: {CurrentSet}\")\n",
    "        print(f\"Accuracy: {BestAcc}\")\n",
    "        accuracies.append(BestAcc)\n",
    "        feature_sets.append(CurrentSet.copy())\n",
    "    \n",
    "    MakePlot(accuracies, feature_sets)\n",
    "\n",
    "def backward_feature_search(data):\n",
    "    features = [x for x in range(1, data.shape[1])] \n",
    "    CurrentSet = set(features)\n",
    "    BestAcc = 0\n",
    "    # Deafult rate\n",
    "    Data = copy.deepcopy(data)\n",
    "    default_acc = LeaveOneOutCrossValid(Data, CurrentSet, None, \"backward\")\n",
    "    accuracies = [default_acc]\n",
    "    feature_sets = [str(CurrentSet.copy())]\n",
    "\n",
    "    for i in range(1, data.shape[1]):\n",
    "\n",
    "        # The logic should be, feature to remove at this level        \n",
    "        FeatureToRemoveAtThisLevel = set()\n",
    "        BestSoFarAccuracy = 0\n",
    "        for k in range(1, data.shape[1]):\n",
    "            if k in CurrentSet:\n",
    "                # to create columns of zeros without affecting the original array\n",
    "                Data = copy.deepcopy(data)\n",
    "                accuracy = LeaveOneOutCrossValid(Data, CurrentSet, k, \"backward\")\n",
    "\n",
    "                if accuracy > BestSoFarAccuracy:\n",
    "                    BestSoFarAccuracy = accuracy\n",
    "                    FeatureToRemoveAtThisLevel = k\n",
    "                    BestAcc = accuracy\n",
    "        CurrentSet.remove(FeatureToRemoveAtThisLevel) \n",
    "        print(f\"On level {i} i removed feature {FeatureToRemoveAtThisLevel} from current set\")\n",
    "        print(f\"Current Set: {CurrentSet}\")\n",
    "        print(f\"Accuracy: {BestAcc}\")\n",
    "        accuracies.append(BestAcc)\n",
    "        if len(CurrentSet) != 0:\n",
    "            feature_sets.append(CurrentSet.copy())\n",
    "        else:\n",
    "            feature_sets.append('{}')\n",
    "        print(feature_sets)\n",
    "    print(len(accuracies),len(feature_sets))\n",
    "\n",
    "    MakePlot(accuracies,feature_sets)"
   ]
  },
  {
   "cell_type": "code",
   "execution_count": null,
   "metadata": {},
   "outputs": [],
   "source": [
    "filename = 'Data/CS170_Small_Data__82.txt'\n",
    "Raw_data = open(filename, 'rt')\n",
    "Data = np.loadtxt(Raw_data)"
   ]
  },
  {
   "cell_type": "code",
   "execution_count": null,
   "metadata": {},
   "outputs": [],
   "source": [
    "# testing forward feature search on small data set\n",
    "forward_feature_search(Data)"
   ]
  },
  {
   "cell_type": "code",
   "execution_count": null,
   "metadata": {},
   "outputs": [],
   "source": [
    "# testing backward feature search on small data set\n",
    "backward_feature_search(Data)"
   ]
  },
  {
   "cell_type": "code",
   "execution_count": null,
   "metadata": {},
   "outputs": [],
   "source": [
    "filename = 'Data/CS170_Large_Data__2.txt'\n",
    "Raw_data = open(filename, 'rt')\n",
    "Data = np.loadtxt(Raw_data)"
   ]
  },
  {
   "cell_type": "code",
   "execution_count": null,
   "metadata": {},
   "outputs": [],
   "source": [
    "# testing forward feature search on large data set\n",
    "forward_feature_search(Data)"
   ]
  },
  {
   "cell_type": "code",
   "execution_count": null,
   "metadata": {},
   "outputs": [],
   "source": [
    "# testing backward feature search on large data set1\n",
    "backward_feature_search(Data)"
   ]
  }
 ],
 "metadata": {
  "kernelspec": {
   "display_name": "Python 3.9.12 64-bit",
   "language": "python",
   "name": "python3"
  },
  "language_info": {
   "codemirror_mode": {
    "name": "ipython",
    "version": 3
   },
   "file_extension": ".py",
   "mimetype": "text/x-python",
   "name": "python",
   "nbconvert_exporter": "python",
   "pygments_lexer": "ipython3",
   "version": "3.9.12"
  },
  "orig_nbformat": 4,
  "vscode": {
   "interpreter": {
    "hash": "b0fa6594d8f4cbf19f97940f81e996739fb7646882a419484c72d19e05852a7e"
   }
  }
 },
 "nbformat": 4,
 "nbformat_minor": 2
}
